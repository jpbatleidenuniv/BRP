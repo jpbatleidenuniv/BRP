{
 "cells": [
  {
   "cell_type": "code",
   "execution_count": 234,
   "id": "ead41fcc-cdc6-4b9f-857a-0cda531724fb",
   "metadata": {},
   "outputs": [],
   "source": [
    "# from astropy.io import fits\n",
    "import numpy as np\n",
    "import matplotlib.pyplot as plt\n",
    "from astropy.io import fits\n",
    "from matplotlib.ticker import (MultipleLocator, AutoMinorLocator)\n",
    "\n",
    "hunt_file = \"Data\\\\Hunt\\\\J_A+A_673_A114_clusters.dat.gz.fits\"\n",
    "kharchenko_file = 'Data\\\\Kharchenko\\\\J_A+A_558_A53_catalog.dat.fits'\n",
    "xmatch_file = 'Data\\\\Hunt\\\\J_A+A_673_A114_crossma.dat.fits'\n",
    "dias_file = 'Data\\\\Diasetal\\\\B_ocl_clusters.dat.fits'\n",
    "\n",
    "def datahandler(filename):\n",
    "    authorname = filename.split('\\\\')\n",
    "    hdul = fits.open(filename)\n",
    "    hdr1 = hdul[0].header #first and second header\n",
    "    hdr2 = hdul[1].header\n",
    "    data, cols = hdul[1].data, hdul[1].columns\n",
    "    metadata = [ [ hdr2[f\"TTYPE{i+1}\"], hdr2.comments[f\"TTYPE{i+1}\"] ] for i, j in enumerate(cols.names) ]\n",
    "    # mydict[authorname]['hdul'] = hdul\n",
    "    return hdul[1].data, hdul[1].columns, metadata\n"
   ]
  },
  {
   "cell_type": "markdown",
   "id": "d64821c9",
   "metadata": {},
   "source": [
    "## Comparing catalogues\n",
    "\n",
    "The goal now is to get the correct clusters from the Kharchenko, Dias and CanatGaudin catalogues with respect to the Hunt paper. Pretty much recreate the table 4 from the hunt paper. We want to cross match the catalogues. We first want to find the $n_\\mathrm{clusters}$ for each catalogue."
   ]
  },
  {
   "cell_type": "code",
   "execution_count": 235,
   "id": "451681e1",
   "metadata": {},
   "outputs": [],
   "source": [
    "data_hunt, cols_hunt, meta_hunt = datahandler(hunt_file)\n",
    "data_khar, cols_khar, meta_khar = datahandler(kharchenko_file)\n",
    "data_dias, cols_dias, meta_dias = datahandler(dias_file)\n",
    "data_xmatch, cols_xmatch, meta_xmatch = datahandler(xmatch_file)"
   ]
  },
  {
   "cell_type": "code",
   "execution_count": 236,
   "id": "b9f01ce0",
   "metadata": {},
   "outputs": [
    {
     "name": "stdout",
     "output_type": "stream",
     "text": [
      "The amount of clusters in the Kharchenko catalogue is indeed 2935\n"
     ]
    }
   ],
   "source": [
    "#getting ocs from kharchenko\n",
    "mask_khar = (data_khar['Type']!='a') & (data_khar['Type'] != 'm') & (data_khar['Type'] != 's')\n",
    "khar_ocs = data_khar[mask_khar]\n",
    "\n",
    "print(f\"The amount of clusters in the Kharchenko catalogue is indeed {len(khar_ocs)}\")\n",
    "\n",
    "#significant cluster from hunt \n",
    "# mask_hunt = data_hunt['CST'] >5\n",
    "# print(f\"Amount of significant cluster is {len(data_hunt[mask_hunt])}\")"
   ]
  },
  {
   "cell_type": "code",
   "execution_count": 237,
   "id": "6150a5bb",
   "metadata": {},
   "outputs": [
    {
     "name": "stdout",
     "output_type": "stream",
     "text": [
      "The amount to found Kharchenko OCs are 1538 != 1513 as in the paper\n"
     ]
    }
   ],
   "source": [
    "all_names = np.concatenate([name.split(',') for name in data_hunt['AllNames']]) #get all names from hunt file\n",
    "\n",
    "cross = np.in1d(list(khar_ocs['Name']), all_names) #intersect hunt all names and kharchenko files\n",
    "np.unique(khar_ocs[cross]['Name'])\n",
    "\n",
    "print(f\"The amount to found Kharchenko OCs are {len(np.unique(khar_ocs[cross]['Name']))} != 1513 as in the paper\")"
   ]
  }
 ],
 "metadata": {
  "kernelspec": {
   "display_name": "Python 3 (ipykernel)",
   "language": "python",
   "name": "python3"
  },
  "language_info": {
   "codemirror_mode": {
    "name": "ipython",
    "version": 3
   },
   "file_extension": ".py",
   "mimetype": "text/x-python",
   "name": "python",
   "nbconvert_exporter": "python",
   "pygments_lexer": "ipython3",
   "version": "3.11.5"
  }
 },
 "nbformat": 4,
 "nbformat_minor": 5
}
