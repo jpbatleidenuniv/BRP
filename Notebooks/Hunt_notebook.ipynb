{
 "cells": [
  {
   "cell_type": "code",
   "execution_count": 50,
   "id": "ead41fcc-cdc6-4b9f-857a-0cda531724fb",
   "metadata": {},
   "outputs": [],
   "source": [
    "# from astropy.io import fits\n",
    "import numpy as np\n",
    "import matplotlib.pyplot as plt\n",
    "from astropy.io import fits\n",
    "from matplotlib.ticker import (MultipleLocator, AutoMinorLocator)\n",
    "\n",
    "\n",
    "mydict = {}\n",
    "\n",
    "hunt_file = \"Data\\\\Hunt\\\\J_A+A_673_A114_clusters.dat.gz.fits\"\n",
    "kharchenko_file = 'Data\\\\Kharchenko\\\\J_A+A_558_A53_catalog.dat.fits'\n",
    "xmatch_file = 'Data\\\\Hunt\\\\J_A+A_673_A114_crossma.dat.fits'\n",
    "dias_file = 'Data\\\\Dias\\\\B_ocl_clusters.dat.fits'\n",
    "\n",
    "def datahandler(filename):\n",
    "    authorname = filename.split('\\\\')\n",
    "    # print(authorname)\n",
    "    # mydict[authorname] = {}\n",
    "    hdul = fits.open(filename)\n",
    "    hdr1 = hdul[0].header #first and second header\n",
    "    hdr2 = hdul[1].header\n",
    "    data, cols = hdul[1].data, hdul[1].columns\n",
    "    metadata = [ [ hdr2[f\"TTYPE{i+1}\"], hdr2.comments[f\"TTYPE{i+1}\"] ] for i, j in enumerate(cols.names) ]\n",
    "    # mydict[authorname]['hdul'] = hdul\n",
    "    return hdul[1].data, hdul[1].columns, metadata\n",
    "\n",
    "\n",
    "data_hunt, cols_hunt, meta_hunt = datahandler(hunt_file)\n",
    "# data_khar, cols_khar, meta_khar = datahandler(kharchenko_file)"
   ]
  },
  {
   "cell_type": "markdown",
   "id": "d64821c9",
   "metadata": {},
   "source": [
    "## Comparing catalogues\n",
    "\n",
    "The goal now is to get the correct clusters from the Kharchenko, Dias and CanatGaudin catalogues with respect to the Hunt paper. Pretty much recreate the table 4 from the hunt paper. We want to cross match the catalogues. We first want to find the $n_\\mathrm{clusters}$ for each catalogue."
   ]
  },
  {
   "cell_type": "code",
   "execution_count": 51,
   "id": "451681e1",
   "metadata": {},
   "outputs": [
    {
     "data": {
      "text/plain": [
       "[['ID', '? Internal cluster ID (blank if object has no'],\n",
       " ['NameLit', 'Name in literature catalogue'],\n",
       " ['SourceCat', 'Source catalogue reference'],\n",
       " ['TypeSourceCat', 'Comma separated list of all source catalogue'],\n",
       " ['Sep', '[0/2]? Separation between cluster centres'],\n",
       " ['SepTidal', '[0/0.94]? Separation in terms of largest tidal'],\n",
       " ['SepTidalLit', '[0/1]? Separation in terms of literature tidal'],\n",
       " ['SepTidalData', '[0/1]? Separation in terms of tidal radius in'],\n",
       " ['pmRASep', '[0/17.41]? Separation in pmRA times cos(dec)'],\n",
       " ['pmRASigma', '? pmRA separation in terms of uncertainty on'],\n",
       " ['pmDESep', '[0/11.24]? Separation in pmDE between this work'],\n",
       " ['pmDESigma', '? pmDE separation in terms of uncertainty on'],\n",
       " ['PlxSep', '[0/2.8]? Separation in parallax between this'],\n",
       " ['PlxSigma', '? Parallax separation in terms of uncertainty'],\n",
       " ['maxSigma', '? Maximum value of pmRASepSigma, pmDESepSigma,'],\n",
       " ['meanSigma', '? Mean value of pmRASepSigma, pmDESepSigma, and']]"
      ]
     },
     "execution_count": 51,
     "metadata": {},
     "output_type": "execute_result"
    }
   ],
   "source": [
    "xmatch, xmatch_cols, meta_xmatch = datahandler(xmatch_file)\n",
    "meta_xmatch"
   ]
  },
  {
   "cell_type": "code",
   "execution_count": null,
   "id": "6150a5bb",
   "metadata": {},
   "outputs": [
    {
     "data": {
      "text/plain": [
       "'Hunt'"
      ]
     },
     "execution_count": 33,
     "metadata": {},
     "output_type": "execute_result"
    }
   ],
   "source": [
    "hunt_file.split('\\\\')[1]"
   ]
  }
 ],
 "metadata": {
  "kernelspec": {
   "display_name": "Python 3 (ipykernel)",
   "language": "python",
   "name": "python3"
  },
  "language_info": {
   "codemirror_mode": {
    "name": "ipython",
    "version": 3
   },
   "file_extension": ".py",
   "mimetype": "text/x-python",
   "name": "python",
   "nbconvert_exporter": "python",
   "pygments_lexer": "ipython3",
   "version": "3.11.5"
  }
 },
 "nbformat": 4,
 "nbformat_minor": 5
}
